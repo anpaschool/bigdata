{
 "cells": [
  {
   "cell_type": "markdown",
   "metadata": {},
   "source": [
    "### Neo4j Graph"
   ]
  },
  {
   "cell_type": "code",
   "execution_count": 3,
   "metadata": {},
   "outputs": [],
   "source": [
    "import pandas as pd\n",
    "import json\n",
    "from neo4j import GraphDatabase"
   ]
  },
  {
   "cell_type": "code",
   "execution_count": 12,
   "metadata": {},
   "outputs": [],
   "source": [
    "uri = \"bolt://localhost:7687\"\n",
    "user = \"neo4j\"\n",
    "password = \"xxxx\"\n",
    "\n",
    "#driver = GraphDatabase.driver(uri, auth=(user, password))\n",
    "driver = GraphDatabase.driver(uri = \"bolt://localhost:7687\",\\\n",
    "                              auth = (\"neo4j\",\"xxxx\"))"
   ]
  },
  {
   "cell_type": "markdown",
   "metadata": {},
   "source": [
    "----------"
   ]
  },
  {
   "cell_type": "markdown",
   "metadata": {},
   "source": [
    "### Movie Network"
   ]
  },
  {
   "cell_type": "markdown",
   "metadata": {},
   "source": [
    "#### Find list of persons"
   ]
  },
  {
   "cell_type": "code",
   "execution_count": 35,
   "metadata": {},
   "outputs": [
    {
     "name": "stdout",
     "output_type": "stream",
     "text": [
      "<Record a=<Node id=0 labels={'Person'} properties={'name': 'Emil', 'from': 'Sweden', 'klout': 99}>>\n",
      "<Record a=<Node id=20 labels={'Person'} properties={'name': 'Johan', 'learn': 'surfing', 'from': 'Sweden'}>>\n",
      "<Record a=<Node id=21 labels={'Person'} properties={'name': 'Ian', 'title': 'author', 'from': 'England'}>>\n",
      "<Record a=<Node id=22 labels={'Person'} properties={'name': 'Rik', 'from': 'Belgium', 'pet': 'Orval'}>>\n"
     ]
    }
   ],
   "source": [
    "person_query = \"MATCH (a:Person) RETURN a LIMIT 4\"\n",
    "Data = []\n",
    "with driver.session() as session:\n",
    "    info = session.run(person_query)\n",
    "    for item in info:\n",
    "        print(item)"
   ]
  },
  {
   "cell_type": "code",
   "execution_count": 37,
   "metadata": {},
   "outputs": [],
   "source": [
    "person_query = \"MATCH (a:Person) RETURN a.name, a.from, a.title, a.born, a.hobby LIMIT 5\"\n",
    "Data = []\n",
    "with driver.session() as session:\n",
    "    info = session.run(person_query)\n",
    "    for item in info:\n",
    "        #print(item)\n",
    "        Data.append({'name': item.values()[0],\\\n",
    "              \"from\": item.values()[1],\\\n",
    "              \"title\": item.values()[2],\\\n",
    "              \"born\": item.values()[3],\\\n",
    "              \"hobby\": item.values()[4]})"
   ]
  },
  {
   "cell_type": "code",
   "execution_count": 38,
   "metadata": {},
   "outputs": [
    {
     "data": {
      "text/plain": [
       "[{'name': 'Emil',\n",
       "  'from': 'Sweden',\n",
       "  'title': None,\n",
       "  'born': None,\n",
       "  'hobby': None},\n",
       " {'name': 'Johan',\n",
       "  'from': 'Sweden',\n",
       "  'title': None,\n",
       "  'born': None,\n",
       "  'hobby': None},\n",
       " {'name': 'Ian',\n",
       "  'from': 'England',\n",
       "  'title': 'author',\n",
       "  'born': None,\n",
       "  'hobby': None},\n",
       " {'name': 'Rik',\n",
       "  'from': 'Belgium',\n",
       "  'title': None,\n",
       "  'born': None,\n",
       "  'hobby': None},\n",
       " {'name': 'Allison',\n",
       "  'from': 'California',\n",
       "  'title': None,\n",
       "  'born': None,\n",
       "  'hobby': 'surfing'}]"
      ]
     },
     "execution_count": 38,
     "metadata": {},
     "output_type": "execute_result"
    }
   ],
   "source": [
    "Data"
   ]
  },
  {
   "cell_type": "markdown",
   "metadata": {},
   "source": [
    "#### Find shortest distance between two persons"
   ]
  },
  {
   "cell_type": "code",
   "execution_count": 44,
   "metadata": {},
   "outputs": [
    {
     "name": "stdout",
     "output_type": "stream",
     "text": [
      "--- Emil ---\n",
      "--- Ian ---\n",
      "--- Allison ---\n"
     ]
    }
   ],
   "source": [
    "node1 = 'Emil'\n",
    "node2 = 'Allison'\n",
    "with driver.session() as session:\n",
    "    path = session.run(\"MATCH p = shortestPath((a1:Person)-[*]-(a2:Person)) \"\n",
    "                        \"WHERE a1.name = $node1 AND a2.name = $node2 \"\n",
    "                        \"RETURN  p\", \n",
    "                        node1=node1, node2=node2)\n",
    "    \n",
    "    for record in path:\n",
    "        nodes = record[\"p\"].nodes\n",
    "        for node in nodes:\n",
    "            print(\"---\", node[\"name\"], '---')"
   ]
  },
  {
   "cell_type": "markdown",
   "metadata": {},
   "source": [
    "#### Find List of movies"
   ]
  },
  {
   "cell_type": "code",
   "execution_count": 34,
   "metadata": {},
   "outputs": [
    {
     "name": "stdout",
     "output_type": "stream",
     "text": [
      "<Record a=<Node id=40 labels={'Movie'} properties={'title': 'The Matrix', 'tagline': 'Welcome to the Real World', 'released': 1999}>>\n",
      "Name: <Node id=40 labels={'Movie'} properties={'title': 'The Matrix', 'tagline': 'Welcome to the Real World', 'released': 1999}>\n",
      "<Record a=<Node id=49 labels={'Movie'} properties={'title': 'The Matrix Reloaded', 'tagline': 'Free your mind', 'released': 2003}>>\n",
      "Name: <Node id=49 labels={'Movie'} properties={'title': 'The Matrix Reloaded', 'tagline': 'Free your mind', 'released': 2003}>\n",
      "<Record a=<Node id=50 labels={'Movie'} properties={'title': 'The Matrix Revolutions', 'tagline': 'Everything that has a beginning has an end', 'released': 2003}>>\n",
      "Name: <Node id=50 labels={'Movie'} properties={'title': 'The Matrix Revolutions', 'tagline': 'Everything that has a beginning has an end', 'released': 2003}>\n",
      "<Record a=<Node id=51 labels={'Movie'} properties={'title': \"The Devil's Advocate\", 'tagline': 'Evil has its winning ways', 'released': 1997}>>\n",
      "Name: <Node id=51 labels={'Movie'} properties={'title': \"The Devil's Advocate\", 'tagline': 'Evil has its winning ways', 'released': 1997}>\n"
     ]
    }
   ],
   "source": [
    "movie_query = \"MATCH (a:Movie) RETURN a LIMIT 4\"\n",
    "with driver.session() as session:\n",
    "    info = session.run(movie_query)\n",
    "    for item in info:\n",
    "        print(item)\n",
    "        print('Name:', item.values()[0])"
   ]
  },
  {
   "cell_type": "code",
   "execution_count": 39,
   "metadata": {},
   "outputs": [],
   "source": [
    "person_query = \"MATCH (a:Movie) RETURN a.title, a.tagline, a.released LIMIT 5\"\n",
    "Data = []\n",
    "with driver.session() as session:\n",
    "    info = session.run(person_query)\n",
    "    for item in info:\n",
    "        #print(item)\n",
    "        Data.append({'title': item.values()[0],\\\n",
    "              \"tagline\": item.values()[1],\\\n",
    "              \"released\": item.values()[2]})"
   ]
  },
  {
   "cell_type": "code",
   "execution_count": 48,
   "metadata": {},
   "outputs": [
    {
     "data": {
      "text/plain": [
       "[{'title': 'The Matrix',\n",
       "  'tagline': 'Welcome to the Real World',\n",
       "  'released': 1999},\n",
       " {'title': 'The Matrix Reloaded',\n",
       "  'tagline': 'Free your mind',\n",
       "  'released': 2003},\n",
       " {'title': 'The Matrix Revolutions',\n",
       "  'tagline': 'Everything that has a beginning has an end',\n",
       "  'released': 2003},\n",
       " {'title': \"The Devil's Advocate\",\n",
       "  'tagline': 'Evil has its winning ways',\n",
       "  'released': 1997},\n",
       " {'title': 'A Few Good Men',\n",
       "  'tagline': \"In the heart of the nation's capital, in a courthouse of the U.S. government, one man will stop at nothing to keep his honor, and one will stop at nothing to find the truth.\",\n",
       "  'released': 1992}]"
      ]
     },
     "execution_count": 48,
     "metadata": {},
     "output_type": "execute_result"
    }
   ],
   "source": [
    "Data"
   ]
  },
  {
   "cell_type": "markdown",
   "metadata": {},
   "source": [
    "#### Neighbourhood"
   ]
  },
  {
   "cell_type": "code",
   "execution_count": 47,
   "metadata": {},
   "outputs": [
    {
     "name": "stdout",
     "output_type": "stream",
     "text": [
      "None\n"
     ]
    }
   ],
   "source": [
    "name = \"Emil\"\n",
    "with driver.session() as session:\n",
    "    child = session.run(\"MATCH (a:person {name: $name}) \"\n",
    "                        \"RETURN a.childs\",name = name)\n",
    "    print(child.single())"
   ]
  },
  {
   "cell_type": "code",
   "execution_count": null,
   "metadata": {},
   "outputs": [],
   "source": []
  },
  {
   "cell_type": "code",
   "execution_count": null,
   "metadata": {},
   "outputs": [],
   "source": []
  }
 ],
 "metadata": {
  "kernelspec": {
   "display_name": "Python 3",
   "language": "python",
   "name": "python3"
  },
  "language_info": {
   "codemirror_mode": {
    "name": "ipython",
    "version": 3
   },
   "file_extension": ".py",
   "mimetype": "text/x-python",
   "name": "python",
   "nbconvert_exporter": "python",
   "pygments_lexer": "ipython3",
   "version": "3.7.3"
  }
 },
 "nbformat": 4,
 "nbformat_minor": 2
}
