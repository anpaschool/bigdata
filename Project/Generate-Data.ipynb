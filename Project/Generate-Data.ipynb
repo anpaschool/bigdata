{
 "cells": [
  {
   "cell_type": "markdown",
   "metadata": {},
   "source": [
    "## Generate A Random Person"
   ]
  },
  {
   "cell_type": "markdown",
   "metadata": {},
   "source": [
    "----------"
   ]
  },
  {
   "cell_type": "code",
   "execution_count": 4,
   "metadata": {},
   "outputs": [],
   "source": [
    "import json as json\n",
    "import random as random\n",
    "import pandas as pd\n",
    "import matplotlib.pyplot as plt\n",
    "import seaborn as sns\n",
    "sns.set()"
   ]
  },
  {
   "cell_type": "code",
   "execution_count": 5,
   "metadata": {},
   "outputs": [],
   "source": [
    "from generator.person import *"
   ]
  },
  {
   "cell_type": "code",
   "execution_count": 6,
   "metadata": {},
   "outputs": [],
   "source": [
    "with open(\"data/world/world.json\", 'r') as f1:\n",
    "    world = json.load(f1)"
   ]
  },
  {
   "cell_type": "code",
   "execution_count": 7,
   "metadata": {},
   "outputs": [],
   "source": [
    "with open(\"data/nepal/NepalG.json\", 'r') as f2:\n",
    "    nepal = json.load(f2)"
   ]
  },
  {
   "cell_type": "code",
   "execution_count": 8,
   "metadata": {},
   "outputs": [],
   "source": [
    "with open(\"data/professions/profession.json\", 'r') as f3:\n",
    "    prof = json.load(f3)"
   ]
  },
  {
   "cell_type": "code",
   "execution_count": 9,
   "metadata": {},
   "outputs": [],
   "source": [
    "with open(\"data/views/views.json\", 'r') as f4:\n",
    "    views = json.load(f4)"
   ]
  },
  {
   "cell_type": "code",
   "execution_count": 10,
   "metadata": {},
   "outputs": [],
   "source": [
    "with open(\"data/interest/personal.json\", 'r') as f5:\n",
    "    personal = json.load(f5)"
   ]
  },
  {
   "cell_type": "code",
   "execution_count": 11,
   "metadata": {},
   "outputs": [],
   "source": [
    "with open(\"data/interest/interest.json\", 'r') as f6:\n",
    "    interest = json.load(f6)"
   ]
  },
  {
   "cell_type": "code",
   "execution_count": 12,
   "metadata": {},
   "outputs": [],
   "source": [
    "with open(\"data/interest/socialwork.json\", 'r') as f7:\n",
    "    socialwork = json.load(f7)"
   ]
  },
  {
   "cell_type": "code",
   "execution_count": 13,
   "metadata": {},
   "outputs": [],
   "source": [
    "Data = []\n",
    "for k in range(10000):\n",
    "    P = Person()\n",
    "    P.set_ID()\n",
    "    P.set_age()\n",
    "    P.set_home_address(nepal)\n",
    "    P.set_foreign_address(world)\n",
    "    P.set_profession(prof) \n",
    "    P.set_date_out()\n",
    "    P.set_date_return()\n",
    "    P.set_fund2invest(interest)\n",
    "    P.set_personal_view(views)\n",
    "    P.set_gender()\n",
    "    P.set_interest(personal)\n",
    "    P.set_remittance()\n",
    "    P.set_travell(world)\n",
    "    P.set_social_work(socialwork)\n",
    "\n",
    "    Data.append({\"ID\": P.ID,\\\n",
    "                 \"age\" : P.age,\\\n",
    "                 \"gender\" : P.gender,\\\n",
    "                 \"profession\": P.profession,\\\n",
    "                 \"interest\": P.interest,\\\n",
    "                 \"home_address\" : P.home_address,\\\n",
    "                 \"foreign_address\": P.foreign_address,\\\n",
    "                 \"date_out\": P.date_out,\\\n",
    "                 \"date_return\":P.date_return,\\\n",
    "                 \"fund2invest\":P.fund2invest,\\\n",
    "                 \"remittance\":P.remittance,\\\n",
    "                 \"travell\":P.travell,\\\n",
    "                 \"social_work\":P.social_work,\\\n",
    "                 \"personal_view\":P.personal_view})"
   ]
  },
  {
   "cell_type": "code",
   "execution_count": 14,
   "metadata": {
    "scrolled": false
   },
   "outputs": [
    {
     "data": {
      "text/plain": [
       "[{'ID': '8OKKX8RSL8',\n",
       "  'age': 36,\n",
       "  'gender': 'male',\n",
       "  'profession': {'major': 'Community and Social Service Occupations',\n",
       "   'branch': 'Social Workers, All Other'},\n",
       "  'interest': 'teaching',\n",
       "  'home_address': {'province': 'PN2',\n",
       "   'district': 'Parsa',\n",
       "   'MCP': 'Bahudar Mai RM',\n",
       "   'ward': 'Ward 8'},\n",
       "  'foreign_address': {'country': 'Bouvet-Island',\n",
       "   'ID': 'BV',\n",
       "   'lat': '-54.423199',\n",
       "   'lon': '3.413194',\n",
       "   'city': 'A'},\n",
       "  'date_out': '2010.2.4',\n",
       "  'date_return': '2024.3.10',\n",
       "  'fund2invest': {'invetsment sector': '1%',\n",
       "   'tourism and hospitality': '4%',\n",
       "   'animal husbandary': '4%',\n",
       "   'infrastructure': '10%',\n",
       "   'cottage industries': '9%',\n",
       "   'personal service business': '7%',\n",
       "   'retail business': '2%',\n",
       "   'consultancy service': '8%',\n",
       "   'alternative energy': '2%',\n",
       "   'agriculture': '5%',\n",
       "   'total_fund': 7955},\n",
       "  'remittance': [{'month': 11, 'amount': 750},\n",
       "   {'month': 9, 'amount': 291},\n",
       "   {'month': 11, 'amount': 389},\n",
       "   {'month': 10, 'amount': 411},\n",
       "   {'month': 9, 'amount': 170}],\n",
       "  'travell': [{'date': '2013.11.8',\n",
       "    'place': {'country': 'Macedonia-[FYROM]', 'city': 'N'}},\n",
       "   {'date': '2016.1.25', 'place': {'country': 'Croatia', 'city': 'Split'}}],\n",
       "  'social_work': [{'date': '2017.4.19', 'work': 'pollution control'},\n",
       "   {'date': '2016.12.21', 'work': 'child orphanage'},\n",
       "   {'date': '2001.3.27', 'work': 'pollution control'},\n",
       "   {'date': '2009.2.25', 'work': 'medical camp'},\n",
       "   {'date': '2007.11.11', 'work': 'small industries for women'}],\n",
       "  'personal_view': ['To add to the erroneous logic, Kathmandu Metropolitan City also recently issued a ‘crackdown on litter-bugs’—if officials find people throwing any form of waste on the city’s roads, they will be fined up to Rs.5,000. These fines overlook a glaring reality: dustbins are scarce. Rather than spending a gross amount of money on a few ‘smart dustbins’, why not invest money in ensuring that regular old dustbins are available at every street corner? Or why not redirect attention towards working with the central government to battle the city’s enduring waste management crisis? These steps would address much more than a 6-lakh-worth-of-a-dustbin ever could.']}]"
      ]
     },
     "execution_count": 14,
     "metadata": {},
     "output_type": "execute_result"
    }
   ],
   "source": [
    "Data[0:1]"
   ]
  },
  {
   "cell_type": "code",
   "execution_count": 15,
   "metadata": {},
   "outputs": [],
   "source": [
    "with open(\"data/database/sample10k.json\",\"w\")as fw:\n",
    "    json.dump(Data,fw)"
   ]
  },
  {
   "cell_type": "markdown",
   "metadata": {},
   "source": [
    "------------"
   ]
  },
  {
   "cell_type": "code",
   "execution_count": null,
   "metadata": {},
   "outputs": [],
   "source": []
  },
  {
   "cell_type": "code",
   "execution_count": null,
   "metadata": {},
   "outputs": [],
   "source": []
  },
  {
   "cell_type": "code",
   "execution_count": null,
   "metadata": {},
   "outputs": [],
   "source": []
  },
  {
   "cell_type": "code",
   "execution_count": null,
   "metadata": {},
   "outputs": [],
   "source": []
  },
  {
   "cell_type": "code",
   "execution_count": null,
   "metadata": {},
   "outputs": [],
   "source": []
  },
  {
   "cell_type": "code",
   "execution_count": null,
   "metadata": {},
   "outputs": [],
   "source": []
  },
  {
   "cell_type": "code",
   "execution_count": null,
   "metadata": {},
   "outputs": [],
   "source": []
  }
 ],
 "metadata": {
  "kernelspec": {
   "display_name": "Python 3",
   "language": "python",
   "name": "python3"
  },
  "language_info": {
   "codemirror_mode": {
    "name": "ipython",
    "version": 3
   },
   "file_extension": ".py",
   "mimetype": "text/x-python",
   "name": "python",
   "nbconvert_exporter": "python",
   "pygments_lexer": "ipython3",
   "version": "3.7.3"
  }
 },
 "nbformat": 4,
 "nbformat_minor": 2
}
