{
 "cells": [
  {
   "cell_type": "markdown",
   "metadata": {},
   "source": [
    "# Populate Database"
   ]
  },
  {
   "cell_type": "markdown",
   "metadata": {},
   "source": [
    "### 1. Create DataBase"
   ]
  },
  {
   "cell_type": "markdown",
   "metadata": {},
   "source": [
    "To create a database in MongoDB, start by creating a MongoClient object, then specify a connection URL with the correct ip address and the name of the database you want to create.\n",
    "\n",
    "MongoDB will create the database if it does not exist, and make a connection to it.\n",
    "\n",
    "**Example**\n",
    "\n",
    "Create a database called \"mydatabase\":"
   ]
  },
  {
   "cell_type": "code",
   "execution_count": 58,
   "metadata": {},
   "outputs": [],
   "source": [
    "# pip install pymongo\n",
    "# pip install dnspython\n",
    "# select python 3.6 and later\n",
    "\n",
    "import pymongo\n",
    "import dns\n",
    "import json"
   ]
  },
  {
   "cell_type": "code",
   "execution_count": 59,
   "metadata": {},
   "outputs": [],
   "source": [
    "#migration:XqrjZ1iMQ6OTLZFb\n",
    "\n",
    "user = \"migration\"\n",
    "password = \"XqrjZ1iMQ6OTLZFb\""
   ]
  },
  {
   "cell_type": "code",
   "execution_count": 60,
   "metadata": {},
   "outputs": [],
   "source": [
    "#client = pymongo.MongoClient(\"mongodb://localhost:27017/\")"
   ]
  },
  {
   "cell_type": "code",
   "execution_count": 61,
   "metadata": {},
   "outputs": [],
   "source": [
    "client = pymongo.MongoClient(\"mongodb+srv://\" + \\\n",
    "                             user + \":\" + password +\\\n",
    "                             \"@cluster0-ui9hr.mongodb.net/test?\" + \\\n",
    "                             \"retryWrites=true&w=majority\")"
   ]
  },
  {
   "cell_type": "code",
   "execution_count": 62,
   "metadata": {},
   "outputs": [],
   "source": [
    "db = client.migration\n",
    "col = db[\"samples\"]"
   ]
  },
  {
   "cell_type": "code",
   "execution_count": 63,
   "metadata": {},
   "outputs": [
    {
     "name": "stderr",
     "output_type": "stream",
     "text": [
      "C:\\ProgramData\\Anaconda3\\lib\\site-packages\\ipykernel_launcher.py:1: DeprecationWarning: count is deprecated. Use estimated_document_count or count_documents instead. Please note that $where must be replaced by $expr, $near must be replaced by $geoWithin with $center, and $nearSphere must be replaced by $geoWithin with $centerSphere\n",
      "  \"\"\"Entry point for launching an IPython kernel.\n"
     ]
    },
    {
     "data": {
      "text/plain": [
       "12000"
      ]
     },
     "execution_count": 63,
     "metadata": {},
     "output_type": "execute_result"
    }
   ],
   "source": [
    "col.count()"
   ]
  },
  {
   "cell_type": "markdown",
   "metadata": {},
   "source": [
    "**Drop the database if already exist to make a place for bran new database**"
   ]
  },
  {
   "cell_type": "code",
   "execution_count": 56,
   "metadata": {},
   "outputs": [],
   "source": [
    "#myclient.drop_database('mydatabase')"
   ]
  },
  {
   "cell_type": "markdown",
   "metadata": {},
   "source": [
    "**Create new one**"
   ]
  },
  {
   "cell_type": "code",
   "execution_count": 57,
   "metadata": {},
   "outputs": [],
   "source": [
    "#mydb = myclient[\"mydatabase\"]"
   ]
  },
  {
   "cell_type": "markdown",
   "metadata": {},
   "source": [
    "**Check if Database Exists**\n",
    "\n",
    "Remember: In MongoDB, a database is not created until it gets content, so if this is your first time creating a database, you should complete the next two chapters (create collection and create document) before you check if the database exists!\n",
    "\n",
    "You can check if a database exist by listing all databases in you system:\n",
    "\n",
    "**Example**\n",
    "\n",
    "Return a list of your system's databases:"
   ]
  },
  {
   "cell_type": "code",
   "execution_count": 40,
   "metadata": {},
   "outputs": [
    {
     "name": "stdout",
     "output_type": "stream",
     "text": [
      "['migration', 'migration_test', 'test', 'admin', 'local']\n"
     ]
    }
   ],
   "source": [
    "print(client.list_database_names())"
   ]
  },
  {
   "cell_type": "code",
   "execution_count": 41,
   "metadata": {},
   "outputs": [],
   "source": [
    "#client.drop_database('migration')"
   ]
  },
  {
   "cell_type": "markdown",
   "metadata": {},
   "source": [
    "Or you can check a specific database by name:\n",
    "\n",
    "**Example**\n",
    "\n",
    "Check if \"mydatabase\" exists:"
   ]
  },
  {
   "cell_type": "code",
   "execution_count": 42,
   "metadata": {},
   "outputs": [
    {
     "name": "stdout",
     "output_type": "stream",
     "text": [
      "The database exists.\n"
     ]
    }
   ],
   "source": [
    "dblist = client.list_database_names()\n",
    "if \"migration_test\" in dblist:\n",
    "  print(\"The database exists.\")"
   ]
  },
  {
   "cell_type": "code",
   "execution_count": 64,
   "metadata": {},
   "outputs": [
    {
     "name": "stdout",
     "output_type": "stream",
     "text": [
      "['samples']\n"
     ]
    }
   ],
   "source": [
    "print(db.list_collection_names())"
   ]
  },
  {
   "cell_type": "markdown",
   "metadata": {},
   "source": [
    "Or you can check a specific collection by name:\n",
    "\n",
    "**Example**\n",
    "\n",
    "Check if the \"customers\" collection exists:"
   ]
  },
  {
   "cell_type": "code",
   "execution_count": 45,
   "metadata": {},
   "outputs": [
    {
     "name": "stdout",
     "output_type": "stream",
     "text": [
      "The collection exists.\n"
     ]
    }
   ],
   "source": [
    "collist = db.list_collection_names()\n",
    "if \"samples\" in collist:\n",
    "  print(\"The collection exists.\")"
   ]
  },
  {
   "cell_type": "markdown",
   "metadata": {},
   "source": [
    "---------"
   ]
  },
  {
   "cell_type": "markdown",
   "metadata": {},
   "source": [
    "### 3. Python MongoDB Insert Document\n",
    "\n",
    "A document in MongoDB is the same as a record in SQL databases.\n",
    "\n",
    "**Insert Into Collection**\n",
    "\n",
    "To insert a record, or document as it is called in MongoDB, into a collection, we use the insert_one() method.\n",
    "\n",
    "The first parameter of the insert_one() method is a dictionary containing the name(s) and value(s) of each field in the document you want to insert.\n",
    "\n",
    "**Example**\n",
    "\n",
    "Insert a record in the \"customers\" collection:"
   ]
  },
  {
   "cell_type": "markdown",
   "metadata": {},
   "source": [
    "If you do not specify an _id field, then MongoDB will add one for you and assign a unique id for each document.\n",
    "\n",
    "In the example above no _id field was specified, so MongoDB assigned a unique _id for the record (document).\n",
    "\n",
    "**Insert Multiple Documents**\n",
    "\n",
    "To insert multiple documents into a collection in MongoDB, we use the insert_many() method.\n",
    "\n",
    "The first parameter of the insert_many() method is a list containing dictionaries with the data you want to insert:"
   ]
  },
  {
   "cell_type": "code",
   "execution_count": 66,
   "metadata": {},
   "outputs": [
    {
     "name": "stdout",
     "output_type": "stream",
     "text": [
      "[ObjectId('5e118f70ba2c42ee99033eb9'), ObjectId('5e118f70ba2c42ee99033eba'), ObjectId('5e118f70ba2c42ee99033ebb'), ObjectId('5e118f70ba2c42ee99033ebc'), ObjectId('5e118f70ba2c42ee99033ebd'), ObjectId('5e118f70ba2c42ee99033ebe'), ObjectId('5e118f70ba2c42ee99033ebf'), ObjectId('5e118f70ba2c42ee99033ec0'), ObjectId('5e118f70ba2c42ee99033ec1'), ObjectId('5e118f70ba2c42ee99033ec2')]\n"
     ]
    }
   ],
   "source": [
    "with open(\"data/database/sample10k.json\", 'r') as f:\n",
    "    data = json.load(f)\n",
    "\n",
    "x = col.insert_many(data)\n",
    "\n",
    "#print list of the _id values of the inserted documents:\n",
    "print(list(x.inserted_ids)[0:10])"
   ]
  },
  {
   "cell_type": "code",
   "execution_count": 67,
   "metadata": {},
   "outputs": [
    {
     "name": "stderr",
     "output_type": "stream",
     "text": [
      "C:\\ProgramData\\Anaconda3\\lib\\site-packages\\ipykernel_launcher.py:1: DeprecationWarning: count is deprecated. Use estimated_document_count or count_documents instead. Please note that $where must be replaced by $expr, $near must be replaced by $geoWithin with $center, and $nearSphere must be replaced by $geoWithin with $centerSphere\n",
      "  \"\"\"Entry point for launching an IPython kernel.\n"
     ]
    },
    {
     "data": {
      "text/plain": [
       "10000"
      ]
     },
     "execution_count": 67,
     "metadata": {},
     "output_type": "execute_result"
    }
   ],
   "source": [
    "col.count()"
   ]
  },
  {
   "cell_type": "markdown",
   "metadata": {},
   "source": [
    "-----------------"
   ]
  },
  {
   "cell_type": "markdown",
   "metadata": {},
   "source": [
    "####  Find One Data"
   ]
  },
  {
   "cell_type": "code",
   "execution_count": 68,
   "metadata": {},
   "outputs": [
    {
     "name": "stdout",
     "output_type": "stream",
     "text": [
      "{'_id': ObjectId('5e118f70ba2c42ee99033eb9'), 'ID': '8OKKX8RSL8', 'age': 36, 'gender': 'male', 'profession': {'major': 'Community and Social Service Occupations', 'branch': 'Social Workers, All Other'}, 'interest': 'teaching', 'home_address': {'province': 'PN2', 'district': 'Parsa', 'MCP': 'Bahudar Mai RM', 'ward': 'Ward 8'}, 'foreign_address': {'country': 'Bouvet-Island', 'ID': 'BV', 'lat': '-54.423199', 'lon': '3.413194', 'city': 'A'}, 'date_out': '2010.2.4', 'date_return': '2024.3.10', 'fund2invest': {'invetsment sector': '1%', 'tourism and hospitality': '4%', 'animal husbandary': '4%', 'infrastructure': '10%', 'cottage industries': '9%', 'personal service business': '7%', 'retail business': '2%', 'consultancy service': '8%', 'alternative energy': '2%', 'agriculture': '5%', 'total_fund': 7955}, 'remittance': [{'month': 11, 'amount': 750}, {'month': 9, 'amount': 291}, {'month': 11, 'amount': 389}, {'month': 10, 'amount': 411}, {'month': 9, 'amount': 170}], 'travell': [{'date': '2013.11.8', 'place': {'country': 'Macedonia-[FYROM]', 'city': 'N'}}, {'date': '2016.1.25', 'place': {'country': 'Croatia', 'city': 'Split'}}], 'social_work': [{'date': '2017.4.19', 'work': 'pollution control'}, {'date': '2016.12.21', 'work': 'child orphanage'}, {'date': '2001.3.27', 'work': 'pollution control'}, {'date': '2009.2.25', 'work': 'medical camp'}, {'date': '2007.11.11', 'work': 'small industries for women'}], 'personal_view': ['To add to the erroneous logic, Kathmandu Metropolitan City also recently issued a ‘crackdown on litter-bugs’—if officials find people throwing any form of waste on the city’s roads, they will be fined up to Rs.5,000. These fines overlook a glaring reality: dustbins are scarce. Rather than spending a gross amount of money on a few ‘smart dustbins’, why not invest money in ensuring that regular old dustbins are available at every street corner? Or why not redirect attention towards working with the central government to battle the city’s enduring waste management crisis? These steps would address much more than a 6-lakh-worth-of-a-dustbin ever could.']}\n"
     ]
    }
   ],
   "source": [
    "x = col.find_one()\n",
    "print(x) "
   ]
  },
  {
   "cell_type": "markdown",
   "metadata": {},
   "source": [
    "#### Query on Data"
   ]
  },
  {
   "cell_type": "code",
   "execution_count": 69,
   "metadata": {},
   "outputs": [
    {
     "name": "stdout",
     "output_type": "stream",
     "text": [
      "FSEJD4A1E0 50 female {'province': 'PN4', 'district': 'Baglung', 'MCP': 'Badi Gad', 'ward': 'Ward 7'}\n",
      "7V13UVD736 50 male {'province': 'PN7', 'district': 'Bajura', 'MCP': 'SwamiKartik RM', 'ward': 'Ward 3'}\n",
      "Z56C6808Q0 50 female {'province': 'PN6', 'district': 'Jajarkot', 'MCP': 'Bheri MCP', 'ward': 'Ward 2'}\n",
      "MO6X276040 50 male {'province': 'PN5', 'district': 'Palpa', 'MCP': 'Nisdi RM', 'ward': 'Ward 2'}\n",
      "WPZBC74M0J 50 male {'province': 'PN4', 'district': 'Gorkha', 'MCP': 'Palungtar MCP', 'ward': 'Ward 7'}\n",
      "94B1K3281R 50 female {'province': 'PN4', 'district': 'Baglung', 'MCP': 'Badi Gad', 'ward': 'Ward 3'}\n",
      "2927844GTF 50 male {'province': 'PN6', 'district': 'Dolpa', 'MCP': 'Thuli Bheri MCP', 'ward': 'Ward 2'}\n",
      "Y0I498F133 50 female {'province': 'PN5', 'district': 'Gulmi', 'MCP': 'Resunga MCP', 'ward': 'Ward 5'}\n",
      "E4ES9J30V8 50 male {'province': 'PN3', 'district': 'Nukuwot', 'MCP': 'Kakani RM', 'ward': 'Ward 8'}\n",
      "3IESD8N3RK 50 female {'province': 'PN1', 'district': 'Morang', 'MCP': 'Katahari RM', 'ward': 'Ward 3'}\n"
     ]
    }
   ],
   "source": [
    "mydoc = col.find().sort(\"age\", -1)\n",
    "\n",
    "for x in mydoc[10:20]:\n",
    "    print(x['ID'],x['age'],x['gender'],x['home_address']) "
   ]
  },
  {
   "cell_type": "markdown",
   "metadata": {},
   "source": [
    "# Danger Zone"
   ]
  },
  {
   "cell_type": "markdown",
   "metadata": {},
   "source": [
    "#### Delete all Data"
   ]
  },
  {
   "cell_type": "code",
   "execution_count": 65,
   "metadata": {},
   "outputs": [
    {
     "name": "stdout",
     "output_type": "stream",
     "text": [
      "12000  documents deleted.\n"
     ]
    }
   ],
   "source": [
    "#x = col.delete_many({})\n",
    "#print(x.deleted_count, \" documents deleted.\") "
   ]
  }
 ],
 "metadata": {
  "kernelspec": {
   "display_name": "Python 3",
   "language": "python",
   "name": "python3"
  },
  "language_info": {
   "codemirror_mode": {
    "name": "ipython",
    "version": 3
   },
   "file_extension": ".py",
   "mimetype": "text/x-python",
   "name": "python",
   "nbconvert_exporter": "python",
   "pygments_lexer": "ipython3",
   "version": "3.7.3"
  }
 },
 "nbformat": 4,
 "nbformat_minor": 2
}
